{
 "cells": [
  {
   "cell_type": "code",
   "execution_count": 5,
   "metadata": {
    "collapsed": true
   },
   "outputs": [],
   "source": [
    "def matrixChainMultiplication(p):\n",
    "    # p = [p_0, p_1, ..., p_n]\n",
    "    n = len(p) - 1\n",
    "    # n+1 x n+1 zero matrixを作る(0,...,n)\n",
    "    # cost(i,j): (M_i...M_j)の最小コスト\n",
    "    cost = [[0 for _ in range(n + 1)] for _ in range(n + 1)]\n",
    "    for numOfMatrices in range(2, n + 1):\n",
    "        for i in range(1, n - numOfMatrices + 2):\n",
    "            j = i + numOfMatrices - 1\n",
    "            cost[i][j] = float('inf')\n",
    "            for k in range(i, j):\n",
    "                cost[i][j] = min(cost[i][j], cost[i][k] + cost[k + 1][j] + p[i - 1] * p[k] * p[j])\n",
    "    print(cost[1][n])"
   ]
  },
  {
   "cell_type": "code",
   "execution_count": 8,
   "metadata": {
    "collapsed": true
   },
   "outputs": [],
   "source": [
    "p = [30, 35, 15, 5, 10, 20, 25]"
   ]
  },
  {
   "cell_type": "code",
   "execution_count": 9,
   "metadata": {
    "collapsed": false
   },
   "outputs": [
    {
     "name": "stdout",
     "output_type": "stream",
     "text": [
      "15125\n"
     ]
    }
   ],
   "source": [
    "matrixChainMultiplication(p)"
   ]
  },
  {
   "cell_type": "code",
   "execution_count": null,
   "metadata": {
    "collapsed": true
   },
   "outputs": [],
   "source": []
  }
 ],
 "metadata": {
  "anaconda-cloud": {},
  "kernelspec": {
   "display_name": "Python [conda root]",
   "language": "python",
   "name": "conda-root-py"
  },
  "language_info": {
   "codemirror_mode": {
    "name": "ipython",
    "version": 3
   },
   "file_extension": ".py",
   "mimetype": "text/x-python",
   "name": "python",
   "nbconvert_exporter": "python",
   "pygments_lexer": "ipython3",
   "version": "3.5.2"
  },
  "toc": {
   "nav_menu": {
    "height": "12px",
    "width": "252px"
   },
   "navigate_menu": true,
   "number_sections": true,
   "sideBar": true,
   "threshold": 4,
   "toc_cell": false,
   "toc_section_display": "block",
   "toc_window_display": false
  }
 },
 "nbformat": 4,
 "nbformat_minor": 1
}
